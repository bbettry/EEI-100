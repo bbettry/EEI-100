{
 "cells": [
  {
   "cell_type": "code",
   "execution_count": null,
   "metadata": {
    "ExecuteTime": {
     "end_time": "2023-01-13T15:48:12.229140Z",
     "start_time": "2023-01-13T15:48:10.604471Z"
    }
   },
   "outputs": [],
   "source": [
    "'''\n",
    "******EEI100\n",
    "'''\n",
    "import os\n",
    "import sys\n",
    "import cv2 as cv\n",
    "from PIL import Image\n",
    "import numpy as np\n",
    "import matplotlib.pyplot as plt\n",
    "import pickle\n",
    "from tqdm import tqdm\n",
    "import torchvision.transforms as transforms\n",
    "#CV2  4.1.2可以用绝对地址，新版本只能使用相对路径\n",
    "data_dir = 'data/Power_2023'\n",
    "dataset_train = \"train\"\n",
    "dataset_val = \"val\"\n",
    "dataset_test = \"test\"\n",
    "cls_train = 60\n",
    "cls_val = 20\n",
    "cls_test = 20\n"
   ]
  },
  {
   "cell_type": "code",
   "execution_count": null,
   "metadata": {
    "ExecuteTime": {
     "end_time": "2023-01-13T15:44:46.690899Z",
     "start_time": "2023-01-13T15:44:46.661976Z"
    }
   },
   "outputs": [],
   "source": [
    "#测试用，下面直接写成函数read_lablel()\n",
    "fname = dataset_train\n",
    "path = os.path.join(data_dir,fname)\n",
    "result = []\n",
    "for dir_item in os.listdir(path):\n",
    "    fall_path = os.path.abspath(os.path.join(path, dir_item))\n",
    "    if os.path.isdir(fall_path):\n",
    "        result.append(dir_item)\n",
    "        \n",
    "print(result)\n",
    "print(len(result))"
   ]
  },
  {
   "cell_type": "code",
   "execution_count": null,
   "metadata": {
    "ExecuteTime": {
     "end_time": "2023-01-13T15:44:46.721935Z",
     "start_time": "2023-01-13T15:44:46.695884Z"
    }
   },
   "outputs": [],
   "source": [
    "def read_lablel(fname):\n",
    "    result = []\n",
    "    path = os.path.join(data_dir,fname)\n",
    "    for dir_item in os.listdir(path):\n",
    "        fall_path = os.path.abspath(os.path.join(path, dir_item))\n",
    "        if os.path.isdir(fall_path):\n",
    "            result.append(dir_item)\n",
    "    return result\n",
    "\n",
    "train_lablel=read_lablel(dataset_train)    \n",
    "print(len(train_lablel))"
   ]
  },
  {
   "cell_type": "code",
   "execution_count": null,
   "metadata": {
    "ExecuteTime": {
     "end_time": "2023-01-13T15:44:47.096178Z",
     "start_time": "2023-01-13T15:44:47.054927Z"
    }
   },
   "outputs": [],
   "source": [
    "train_label = read_lablel(dataset_train)    \n",
    "val_label = read_lablel(dataset_val)    \n",
    "test_label = read_lablel(dataset_test)    \n",
    "print(len(train_label))\n",
    "print(len(val_label))\n",
    "print(len(test_label))"
   ]
  },
  {
   "cell_type": "code",
   "execution_count": null,
   "metadata": {
    "ExecuteTime": {
     "end_time": "2023-01-13T15:44:48.660853Z",
     "start_time": "2023-01-13T15:44:48.639909Z"
    }
   },
   "outputs": [],
   "source": [
    "#求类别，并合并label\n",
    "labels_list = train_label +  test_label \n",
    "print('数据集label总数：',len(labels_list))\n",
    "print(labels_list)\n",
    "print('train,val交集： ',set(train_label) & set(val_label))\n",
    "print('train,test交集： ',set(train_label) & set(test_label))\n",
    "#print('val,test交集： ',set(val_label) & set(test_label))"
   ]
  },
  {
   "cell_type": "code",
   "execution_count": null,
   "metadata": {
    "ExecuteTime": {
     "end_time": "2023-01-13T15:44:51.518090Z",
     "start_time": "2023-01-13T15:44:51.502087Z"
    }
   },
   "outputs": [],
   "source": [
    "#将类别转化为数字标号\n",
    "labels_dict = {}\n",
    "i = 1\n",
    "for l in labels_list:\n",
    "    if l not in labels_dict:\n",
    "        labels_dict[l] = i\n",
    "        i = i+1\n",
    "print(labels_dict)"
   ]
  },
  {
   "cell_type": "code",
   "execution_count": null,
   "metadata": {
    "ExecuteTime": {
     "end_time": "2023-01-13T15:44:55.844757Z",
     "start_time": "2023-01-13T15:44:53.845768Z"
    }
   },
   "outputs": [],
   "source": [
    "#测试读取 图片文件\n",
    "filepath = os.path.join(data_dir, dataset_train, train_label[0])\n",
    "images = []\n",
    "for image_item in os.listdir(filepath):\n",
    "    images.append(image_item)\n",
    "print(len(images))\n",
    "print(images[0])\n",
    "fall_path = os.path.join(filepath, images[0])\n",
    "#image = cv.imread(fall_path)#读取图片\n",
    "#print(image.shape)\n",
    "image = Image.open(fall_path)\n",
    "image.show()"
   ]
  },
  {
   "cell_type": "code",
   "execution_count": null,
   "metadata": {
    "ExecuteTime": {
     "end_time": "2023-01-13T15:45:19.145935Z",
     "start_time": "2023-01-13T15:44:58.298880Z"
    }
   },
   "outputs": [],
   "source": [
    "\"\"\"\n",
    "读取图像文件，存入list中\n",
    "下面直接封装成  get_image(path,_data)函数\n",
    "\"\"\"\n",
    "images = []\n",
    "labels = []\n",
    "i = 0\n",
    "with tqdm(total=1942) as pbar:\n",
    "    pbar.set_description('Processing:')\n",
    "    for fname in train_lablel:\n",
    "        filepath = os.path.join(data_dir, dataset_train, fname)\n",
    "        for image_item in os.listdir(filepath):\n",
    "            fall_path = os.path.join(filepath, image_item)\n",
    "            image = cv.imread(fall_path)#读取图片\n",
    "            images.append(image)\n",
    "            labels.append(labels_dict[fname])\n",
    "            pbar.update(1)#更新进度条\n",
    "            i+=1\n",
    "            if i==1:\n",
    "                img0=Image.open(fall_path)\n",
    "                img0.show()\n",
    "                #print(fname+': '+str(labels_dict[fname]))\n",
    "\n",
    "print(len(images))\n",
    "print(set(train_lablel))"
   ]
  },
  {
   "cell_type": "code",
   "execution_count": null,
   "metadata": {
    "ExecuteTime": {
     "end_time": "2023-01-13T15:45:41.536823Z",
     "start_time": "2023-01-13T15:45:41.524856Z"
    }
   },
   "outputs": [],
   "source": [
    "print(images[0].shape,labels[0])\n",
    "#cv.imshow(\"image label: %s\" %labels[0],images[0])\n",
    "\n",
    "#cv.waitKey(0)"
   ]
  },
  {
   "cell_type": "code",
   "execution_count": null,
   "metadata": {
    "ExecuteTime": {
     "end_time": "2023-01-13T15:45:44.628346Z",
     "start_time": "2023-01-13T15:45:44.617996Z"
    }
   },
   "outputs": [],
   "source": [
    "#对应图像小于crop高宽的,筛选出来\n",
    "def filter(imgs,crop_size):\n",
    "    return [img for img in imgs if (\n",
    "        img.shape[0] < crop_size[0] or img.shape[1] < crop_size[1])]"
   ]
  },
  {
   "cell_type": "code",
   "execution_count": null,
   "metadata": {
    "ExecuteTime": {
     "end_time": "2023-01-13T15:39:43.652190Z",
     "start_time": "2023-01-13T15:39:39.940079Z"
    }
   },
   "outputs": [],
   "source": [
    "small_image = filter(images,[84,84])\n",
    "print('小图片数量：',len(small_image))\n",
    "if len(small_image) > 0:\n",
    "    print(small_image[0].shape)\n",
    "    Image.fromarray(small_image[0]).show()\n",
    "    Image.fromarray(cv.resize(small_image[0],(84,84))).show()"
   ]
  },
  {
   "cell_type": "code",
   "execution_count": null,
   "metadata": {
    "ExecuteTime": {
     "end_time": "2023-01-13T15:46:09.761496Z",
     "start_time": "2023-01-13T15:46:09.739667Z"
    }
   },
   "outputs": [],
   "source": [
    "\"\"\"\n",
    "读取图像文件，存入list中1942,891,891\n",
    "\"\"\"\n",
    "def get_image(label_data,cls_data,data_set):\n",
    "    images = []\n",
    "    labels = []\n",
    "    crop_size = [84,84]\n",
    "    with tqdm(total=891) as pbar:\n",
    "        pbar.set_description('Processing:')\n",
    "        for fname in label_data:\n",
    "            filepath = os.path.join(data_dir, data_set, fname)\n",
    "            for image_item in os.listdir(filepath):\n",
    "                fall_path = os.path.join(filepath, image_item)\n",
    "                image = cv.imread(fall_path)#读取图片\n",
    "                image = cv.resize(image,(84,84))#resize成（84，84）\n",
    "                images.append(image)\n",
    "                labels.append(labels_dict[fname])\n",
    "                pbar.update(1)#更新进度条\n",
    "    return images, labels"
   ]
  },
  {
   "cell_type": "code",
   "execution_count": null,
   "metadata": {
    "ExecuteTime": {
     "end_time": "2023-01-13T15:46:13.349922Z",
     "start_time": "2023-01-13T15:46:10.611864Z"
    }
   },
   "outputs": [],
   "source": [
    "\"\"\"\n",
    "写入.pickle文件\n",
    "\"\"\"\n",
    "#images, labels = get_image(train_label,cls_train,dataset_train)#替换上面读取的txt数据\n",
    "#images, labels = get_image(val_label,cls_val,dataset_val)\n",
    "images, labels = get_image(test_label,cls_test,dataset_test)\n",
    "images = np.asarray(images,dtype=object)\n",
    "print(images.shape)\n",
    "small_image = filter(images,[84,84])\n",
    "print('小图片数量：',len(small_image))\n",
    "image_dic = {'data': images, 'labels' : labels}\n",
    "#train  Power_2023_80_category_split_train_phase_train.pickle\n",
    "#val  Power_2023_80_category_split_train_phase_val.pickle\n",
    "#test  Power_2023_80_category_split_test.pickle\n",
    "with open('Power_2023_80_category_split_test.pickle', 'wb') as f:\n",
    "    pickle.dump(image_dic, f)\n",
    "    f.close()"
   ]
  },
  {
   "cell_type": "code",
   "execution_count": null,
   "metadata": {
    "ExecuteTime": {
     "end_time": "2023-01-13T15:46:44.676660Z",
     "start_time": "2023-01-13T15:46:44.061309Z"
    }
   },
   "outputs": [],
   "source": [
    "\"\"\"\n",
    "读取.pickle文件\n",
    "\"\"\"\n",
    "#path='Power_2023_80_category_split_train_phase_val.pickle'\n",
    "#path='Power_2023_80_category_split_train_phase_train.pickle'\n",
    "path='Power_2023_80_category_split_test.pickle'\n",
    "with open(path,'rb') as f:\n",
    "    data = pickle.load(f, encoding='bytes')\n",
    "    imgs = data['data']\n",
    "    labels = data['labels']\n",
    "print(len(imgs))\n",
    "print(imgs[0].shape)\n",
    "print(type(labels[0]))"
   ]
  },
  {
   "cell_type": "code",
   "execution_count": null,
   "metadata": {
    "ExecuteTime": {
     "start_time": "2023-01-13T15:47:36.691Z"
    }
   },
   "outputs": [],
   "source": [
    "#测试生成的数据正确不\n",
    "def test(image_dataset,image_label):\n",
    "    print(image_label[:10])\n",
    "    plt.figure(figsize=(8,8))\n",
    "    for i in range(10):\n",
    "        plt.subplot(5,2,i+1)\n",
    "        plt.imshow(np.asarray(image_dataset[i]).astype('uint8'))\n",
    "        plt.show()\n",
    "    \n",
    "test(imgs,labels)"
   ]
  },
  {
   "cell_type": "code",
   "execution_count": null,
   "metadata": {
    "ExecuteTime": {
     "end_time": "2023-01-13T15:46:54.968615Z",
     "start_time": "2023-01-13T15:46:52.941721Z"
    }
   },
   "outputs": [],
   "source": [
    "item = 0\n",
    "img = np.asarray(imgs[item]).astype('uint8')\n",
    "print(len(img))\n",
    "img = Image.fromarray(img)\n",
    "\n",
    "img.show()"
   ]
  },
  {
   "cell_type": "code",
   "execution_count": null,
   "metadata": {
    "ExecuteTime": {
     "end_time": "2023-01-13T15:47:24.368781Z",
     "start_time": "2023-01-13T15:47:24.344473Z"
    }
   },
   "outputs": [],
   "source": [
    "slabels = np.asarray(labels)\n",
    "print(slabels)\n",
    "np.min(slabels)\n",
    "slabels = slabels - np.min(slabels)\n",
    "numclass = np.max(slabels)+1\n",
    "print('number of class=',numclass)"
   ]
  },
  {
   "cell_type": "code",
   "execution_count": null,
   "metadata": {},
   "outputs": [],
   "source": []
  }
 ],
 "metadata": {
  "interpreter": {
   "hash": "40fcfa6e6d0b900919044eaf0c3d93031bf266e33058809e21dbd8539b7f0758"
  },
  "kernelspec": {
   "display_name": "Python 3 (ipykernel)",
   "language": "python",
   "name": "python3"
  },
  "language_info": {
   "codemirror_mode": {
    "name": "ipython",
    "version": 3
   },
   "file_extension": ".py",
   "mimetype": "text/x-python",
   "name": "python",
   "nbconvert_exporter": "python",
   "pygments_lexer": "ipython3",
   "version": "3.9.12"
  }
 },
 "nbformat": 4,
 "nbformat_minor": 2
}
