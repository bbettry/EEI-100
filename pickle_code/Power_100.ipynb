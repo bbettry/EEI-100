{
 "cells": [
  {
   "cell_type": "code",
   "execution_count": 1,
   "metadata": {
    "ExecuteTime": {
     "end_time": "2023-01-13T15:48:12.229140Z",
     "start_time": "2023-01-13T15:48:10.604471Z"
    }
   },
   "outputs": [],
   "source": [
    "'''\n",
    "******Power_2023_80 共80类，每类至少30张，共#张，像素?，训练集56 ，验证集0，测试集24\n",
    "'''\n",
    "import os\n",
    "import sys\n",
    "import cv2 as cv\n",
    "from PIL import Image\n",
    "import numpy as np\n",
    "import matplotlib.pyplot as plt\n",
    "import pickle\n",
    "from tqdm import tqdm\n",
    "import torchvision.transforms as transforms\n",
    "#CV2  4.1.2可以用绝对地址，新版本只能使用相对路径\n",
    "data_dir = 'data/Power_2023_80'\n",
    "dataset_train = \"train\"\n",
    "dataset_val = \"val\"\n",
    "dataset_test = \"test\"\n",
    "cls_train = 56\n",
    "cls_val = 24\n",
    "cls_test = 24\n"
   ]
  },
  {
   "cell_type": "code",
   "execution_count": 2,
   "metadata": {
    "ExecuteTime": {
     "end_time": "2023-01-13T15:44:46.690899Z",
     "start_time": "2023-01-13T15:44:46.661976Z"
    }
   },
   "outputs": [
    {
     "name": "stdout",
     "output_type": "stream",
     "text": [
      "['electromagnetic_valve', '24Vpower', '57battery', 'AC_contactor', 'air_conditioner_inner', 'alarm_lamp', 'bath_heater', 'battery', 'blowing_machine', 'camera', 'charger', 'communication_cabinet', 'communication_device', 'conditioner_out', 'cutting_machine', 'DC_motor', 'earth_teminal', 'efficient_lightbulb', 'electric_bicycle', 'electric_bowl', 'elec_machine_fan', 'engerymeter', 'fan_switch', 'fire_safety_light', 'floor_fan', 'hair_dryer', 'heavy_breaker', 'heavy_transformer', 'indoor_omnid_antenna', 'industry_robot', 'insulator', 'jinju', 'keyboard', 'microwave_oven', 'mobilephone', 'monitor', 'multimeter', 'oscillograph', 'power_board', 'power_lightning_protection', 'seromotor', 'solar_panel', 'spd', 'spherical_monitor', 'SSR', 'sunlight', 'sweep_robot', 'switchgear', 'switch_pannel', 'taideng', 'teakettle', 'tricoloured_light', 'vertical_airconditioner', 'wall_elec_plate', 'wind_generator', 'wire']\n",
      "56\n"
     ]
    }
   ],
   "source": [
    "#测试用，下面直接写成函数read_lablel()\n",
    "fname = dataset_train\n",
    "path = os.path.join(data_dir,fname)\n",
    "result = []\n",
    "for dir_item in os.listdir(path):\n",
    "    fall_path = os.path.abspath(os.path.join(path, dir_item))\n",
    "    if os.path.isdir(fall_path):\n",
    "        result.append(dir_item)\n",
    "        \n",
    "print(result)\n",
    "print(len(result))"
   ]
  },
  {
   "cell_type": "code",
   "execution_count": 3,
   "metadata": {
    "ExecuteTime": {
     "end_time": "2023-01-13T15:44:46.721935Z",
     "start_time": "2023-01-13T15:44:46.695884Z"
    }
   },
   "outputs": [
    {
     "name": "stdout",
     "output_type": "stream",
     "text": [
      "56\n"
     ]
    }
   ],
   "source": [
    "def read_lablel(fname):\n",
    "    result = []\n",
    "    path = os.path.join(data_dir,fname)\n",
    "    for dir_item in os.listdir(path):\n",
    "        fall_path = os.path.abspath(os.path.join(path, dir_item))\n",
    "        if os.path.isdir(fall_path):\n",
    "            result.append(dir_item)\n",
    "    return result\n",
    "\n",
    "train_lablel=read_lablel(dataset_train)    \n",
    "print(len(train_lablel))"
   ]
  },
  {
   "cell_type": "code",
   "execution_count": 4,
   "metadata": {
    "ExecuteTime": {
     "end_time": "2023-01-13T15:44:47.096178Z",
     "start_time": "2023-01-13T15:44:47.054927Z"
    }
   },
   "outputs": [
    {
     "name": "stdout",
     "output_type": "stream",
     "text": [
      "56\n",
      "24\n",
      "24\n"
     ]
    }
   ],
   "source": [
    "train_label = read_lablel(dataset_train)    \n",
    "val_label = read_lablel(dataset_val)    \n",
    "test_label = read_lablel(dataset_test)    \n",
    "print(len(train_label))\n",
    "print(len(val_label))\n",
    "print(len(test_label))"
   ]
  },
  {
   "cell_type": "code",
   "execution_count": 5,
   "metadata": {
    "ExecuteTime": {
     "end_time": "2023-01-13T15:44:48.660853Z",
     "start_time": "2023-01-13T15:44:48.639909Z"
    }
   },
   "outputs": [
    {
     "name": "stdout",
     "output_type": "stream",
     "text": [
      "数据集label总数： 80\n",
      "['electromagnetic_valve', '24Vpower', '57battery', 'AC_contactor', 'air_conditioner_inner', 'alarm_lamp', 'bath_heater', 'battery', 'blowing_machine', 'camera', 'charger', 'communication_cabinet', 'communication_device', 'conditioner_out', 'cutting_machine', 'DC_motor', 'earth_teminal', 'efficient_lightbulb', 'electric_bicycle', 'electric_bowl', 'elec_machine_fan', 'engerymeter', 'fan_switch', 'fire_safety_light', 'floor_fan', 'hair_dryer', 'heavy_breaker', 'heavy_transformer', 'indoor_omnid_antenna', 'industry_robot', 'insulator', 'jinju', 'keyboard', 'microwave_oven', 'mobilephone', 'monitor', 'multimeter', 'oscillograph', 'power_board', 'power_lightning_protection', 'seromotor', 'solar_panel', 'spd', 'spherical_monitor', 'SSR', 'sunlight', 'sweep_robot', 'switchgear', 'switch_pannel', 'taideng', 'teakettle', 'tricoloured_light', 'vertical_airconditioner', 'wall_elec_plate', 'wind_generator', 'wire', '10kv_elecbin', '48Vpower', 'air_conditioner_outer', 'bushing_current_transformer', 'button_cell', 'ceiling_fan', 'circuitboard', 'communication_tower', 'electrical_motor', 'electric_temp_meter', 'emergency_stop_button', 'EM_relay', 'ethernet_switch', 'fridge', 'HMI', 'meterbox', 'oil_ting_heater', 'S200PLC', 'small_breaker', 'small_transformer', 'square_monitor', 'threephase_machine', 'traffic_light', 'VAmeter']\n",
      "train,val交集：  set()\n",
      "train,test交集：  set()\n"
     ]
    }
   ],
   "source": [
    "#求类别，并合并label\n",
    "labels_list = train_label +  test_label \n",
    "print('数据集label总数：',len(labels_list))\n",
    "print(labels_list)\n",
    "print('train,val交集： ',set(train_label) & set(val_label))\n",
    "print('train,test交集： ',set(train_label) & set(test_label))\n",
    "#print('val,test交集： ',set(val_label) & set(test_label))"
   ]
  },
  {
   "cell_type": "code",
   "execution_count": 18,
   "metadata": {
    "ExecuteTime": {
     "end_time": "2023-01-13T15:44:51.518090Z",
     "start_time": "2023-01-13T15:44:51.502087Z"
    }
   },
   "outputs": [
    {
     "name": "stdout",
     "output_type": "stream",
     "text": [
      "{'electromagnetic_valve': 1, '24Vpower': 2, '57battery': 3, 'AC_contactor': 4, 'air_conditioner_inner': 5, 'alarm_lamp': 6, 'bath_heater': 7, 'battery': 8, 'blowing_machine': 9, 'camera': 10, 'charger': 11, 'communication_cabinet': 12, 'communication_device': 13, 'conditioner_out': 14, 'cutting_machine': 15, 'DC_motor': 16, 'earth_teminal': 17, 'efficient_lightbulb': 18, 'electric_bicycle': 19, 'electric_bowl': 20, 'elec_machine_fan': 21, 'engerymeter': 22, 'fan_switch': 23, 'fire_safety_light': 24, 'floor_fan': 25, 'hair_dryer': 26, 'heavy_breaker': 27, 'heavy_transformer': 28, 'indoor_omnid_antenna': 29, 'industry_robot': 30, 'insulator': 31, 'jinju': 32, 'keyboard': 33, 'microwave_oven': 34, 'mobilephone': 35, 'monitor': 36, 'multimeter': 37, 'oscillograph': 38, 'power_board': 39, 'power_lightning_protection': 40, 'seromotor': 41, 'solar_panel': 42, 'spd': 43, 'spherical_monitor': 44, 'SSR': 45, 'sunlight': 46, 'sweep_robot': 47, 'switchgear': 48, 'switch_pannel': 49, 'taideng': 50, 'teakettle': 51, 'tricoloured_light': 52, 'vertical_airconditioner': 53, 'wall_elec_plate': 54, 'wind_generator': 55, 'wire': 56, '10kv_elecbin': 57, '48Vpower': 58, 'air_conditioner_outer': 59, 'bushing_current_transformer': 60, 'button_cell': 61, 'ceiling_fan': 62, 'circuitboard': 63, 'communication_tower': 64, 'electrical_motor': 65, 'electric_temp_meter': 66, 'emergency_stop_button': 67, 'EM_relay': 68, 'ethernet_switch': 69, 'fridge': 70, 'HMI': 71, 'meterbox': 72, 'oil_ting_heater': 73, 'S200PLC': 74, 'small_breaker': 75, 'small_transformer': 76, 'square_monitor': 77, 'threephase_machine': 78, 'traffic_light': 79, 'VAmeter': 80}\n"
     ]
    }
   ],
   "source": [
    "#将类别转化为数字标号\n",
    "labels_dict = {}\n",
    "i = 1\n",
    "for l in labels_list:\n",
    "    if l not in labels_dict:\n",
    "        labels_dict[l] = i\n",
    "        i = i+1\n",
    "print(labels_dict)"
   ]
  },
  {
   "cell_type": "code",
   "execution_count": 19,
   "metadata": {
    "ExecuteTime": {
     "end_time": "2023-01-13T15:44:55.844757Z",
     "start_time": "2023-01-13T15:44:53.845768Z"
    }
   },
   "outputs": [
    {
     "name": "stdout",
     "output_type": "stream",
     "text": [
      "32\n",
      "electromagnetic_valve_014.png\n"
     ]
    }
   ],
   "source": [
    "#测试读取 图片文件\n",
    "filepath = os.path.join(data_dir, dataset_train, train_label[0])\n",
    "images = []\n",
    "for image_item in os.listdir(filepath):\n",
    "    images.append(image_item)\n",
    "print(len(images))\n",
    "print(images[0])\n",
    "fall_path = os.path.join(filepath, images[0])\n",
    "#image = cv.imread(fall_path)#读取图片\n",
    "#print(image.shape)\n",
    "image = Image.open(fall_path)\n",
    "image.show()"
   ]
  },
  {
   "cell_type": "code",
   "execution_count": 20,
   "metadata": {
    "ExecuteTime": {
     "end_time": "2023-01-13T15:45:19.145935Z",
     "start_time": "2023-01-13T15:44:58.298880Z"
    }
   },
   "outputs": [
    {
     "name": "stderr",
     "output_type": "stream",
     "text": [
      "Processing:: 100%|██████████| 1942/1942 [00:17<00:00, 109.56it/s]"
     ]
    },
    {
     "name": "stdout",
     "output_type": "stream",
     "text": [
      "1942\n",
      "{'mobilephone', 'vertical_airconditioner', 'engerymeter', 'spherical_monitor', 'communication_device', 'conditioner_out', 'monitor', 'floor_fan', 'keyboard', 'SSR', 'wind_generator', 'power_lightning_protection', 'electromagnetic_valve', '57battery', 'microwave_oven', 'electric_bowl', 'indoor_omnid_antenna', 'sweep_robot', 'solar_panel', 'elec_machine_fan', 'charger', 'hair_dryer', 'blowing_machine', 'oscillograph', 'taideng', 'wire', 'cutting_machine', 'alarm_lamp', 'insulator', 'power_board', 'communication_cabinet', 'earth_teminal', 'seromotor', 'bath_heater', 'sunlight', 'industry_robot', 'efficient_lightbulb', 'heavy_breaker', 'heavy_transformer', 'multimeter', 'air_conditioner_inner', '24Vpower', 'battery', 'tricoloured_light', 'wall_elec_plate', 'switch_pannel', 'fan_switch', 'electric_bicycle', 'switchgear', 'spd', 'camera', 'DC_motor', 'fire_safety_light', 'jinju', 'teakettle', 'AC_contactor'}\n"
     ]
    },
    {
     "name": "stderr",
     "output_type": "stream",
     "text": [
      "\n"
     ]
    }
   ],
   "source": [
    "\"\"\"\n",
    "读取图像文件，存入list中\n",
    "下面直接封装成  get_image(path,_data)函数\n",
    "\"\"\"\n",
    "images = []\n",
    "labels = []\n",
    "i = 0\n",
    "with tqdm(total=1942) as pbar:\n",
    "    pbar.set_description('Processing:')\n",
    "    for fname in train_lablel:\n",
    "        filepath = os.path.join(data_dir, dataset_train, fname)\n",
    "        for image_item in os.listdir(filepath):\n",
    "            fall_path = os.path.join(filepath, image_item)\n",
    "            image = cv.imread(fall_path)#读取图片\n",
    "            images.append(image)\n",
    "            labels.append(labels_dict[fname])\n",
    "            pbar.update(1)#更新进度条\n",
    "            i+=1\n",
    "            if i==1:\n",
    "                img0=Image.open(fall_path)\n",
    "                img0.show()\n",
    "                #print(fname+': '+str(labels_dict[fname]))\n",
    "\n",
    "print(len(images))\n",
    "print(set(train_lablel))"
   ]
  },
  {
   "cell_type": "code",
   "execution_count": 21,
   "metadata": {
    "ExecuteTime": {
     "end_time": "2023-01-13T15:45:41.536823Z",
     "start_time": "2023-01-13T15:45:41.524856Z"
    }
   },
   "outputs": [
    {
     "name": "stdout",
     "output_type": "stream",
     "text": [
      "(168, 238, 3) 1\n"
     ]
    }
   ],
   "source": [
    "print(images[0].shape,labels[0])\n",
    "#cv.imshow(\"image label: %s\" %labels[0],images[0])\n",
    "\n",
    "#cv.waitKey(0)"
   ]
  },
  {
   "cell_type": "code",
   "execution_count": 22,
   "metadata": {
    "ExecuteTime": {
     "end_time": "2023-01-13T15:45:44.628346Z",
     "start_time": "2023-01-13T15:45:44.617996Z"
    }
   },
   "outputs": [],
   "source": [
    "#对应图像小于crop高宽的,筛选出来\n",
    "def filter(imgs,crop_size):\n",
    "    return [img for img in imgs if (\n",
    "        img.shape[0] < crop_size[0] or img.shape[1] < crop_size[1])]"
   ]
  },
  {
   "cell_type": "code",
   "execution_count": 23,
   "metadata": {
    "ExecuteTime": {
     "end_time": "2023-01-13T15:39:43.652190Z",
     "start_time": "2023-01-13T15:39:39.940079Z"
    }
   },
   "outputs": [
    {
     "name": "stdout",
     "output_type": "stream",
     "text": [
      "小图片数量： 1\n",
      "(75, 357, 3)\n"
     ]
    }
   ],
   "source": [
    "small_image = filter(images,[84,84])\n",
    "print('小图片数量：',len(small_image))\n",
    "if len(small_image) > 0:\n",
    "    print(small_image[0].shape)\n",
    "    Image.fromarray(small_image[0]).show()\n",
    "    Image.fromarray(cv.resize(small_image[0],(84,84))).show()"
   ]
  },
  {
   "cell_type": "code",
   "execution_count": 26,
   "metadata": {
    "ExecuteTime": {
     "end_time": "2023-01-13T15:46:09.761496Z",
     "start_time": "2023-01-13T15:46:09.739667Z"
    }
   },
   "outputs": [],
   "source": [
    "\"\"\"\n",
    "读取图像文件，存入list中1942,891,891\n",
    "\"\"\"\n",
    "def get_image(label_data,cls_data,data_set):\n",
    "    images = []\n",
    "    labels = []\n",
    "    crop_size = [84,84]\n",
    "    with tqdm(total=891) as pbar:\n",
    "        pbar.set_description('Processing:')\n",
    "        for fname in label_data:\n",
    "            filepath = os.path.join(data_dir, data_set, fname)\n",
    "            for image_item in os.listdir(filepath):\n",
    "                fall_path = os.path.join(filepath, image_item)\n",
    "                image = cv.imread(fall_path)#读取图片\n",
    "                image = cv.resize(image,(84,84))#resize成（84，84）\n",
    "                images.append(image)\n",
    "                labels.append(labels_dict[fname])\n",
    "                pbar.update(1)#更新进度条\n",
    "    return images, labels"
   ]
  },
  {
   "cell_type": "code",
   "execution_count": 30,
   "metadata": {
    "ExecuteTime": {
     "end_time": "2023-01-13T15:46:13.349922Z",
     "start_time": "2023-01-13T15:46:10.611864Z"
    }
   },
   "outputs": [
    {
     "name": "stderr",
     "output_type": "stream",
     "text": [
      "Processing:: 100%|██████████| 891/891 [00:07<00:00, 119.22it/s]\n"
     ]
    },
    {
     "name": "stdout",
     "output_type": "stream",
     "text": [
      "(891, 84, 84, 3)\n",
      "小图片数量： 0\n"
     ]
    }
   ],
   "source": [
    "\"\"\"\n",
    "写入.pickle文件\n",
    "\"\"\"\n",
    "#images, labels = get_image(train_label,cls_train,dataset_train)#替换上面读取的txt数据\n",
    "#images, labels = get_image(val_label,cls_val,dataset_val)\n",
    "images, labels = get_image(test_label,cls_test,dataset_test)\n",
    "images = np.asarray(images,dtype=object)\n",
    "print(images.shape)\n",
    "small_image = filter(images,[84,84])\n",
    "print('小图片数量：',len(small_image))\n",
    "image_dic = {'data': images, 'labels' : labels}\n",
    "#train  Power_2023_80_category_split_train_phase_train.pickle\n",
    "#val  Power_2023_80_category_split_train_phase_val.pickle\n",
    "#test  Power_2023_80_category_split_test.pickle\n",
    "with open('Power_2023_80_category_split_test.pickle', 'wb') as f:\n",
    "    pickle.dump(image_dic, f)\n",
    "    f.close()"
   ]
  },
  {
   "cell_type": "code",
   "execution_count": 31,
   "metadata": {
    "ExecuteTime": {
     "end_time": "2023-01-13T15:46:44.676660Z",
     "start_time": "2023-01-13T15:46:44.061309Z"
    }
   },
   "outputs": [
    {
     "name": "stdout",
     "output_type": "stream",
     "text": [
      "891\n",
      "(84, 84, 3)\n",
      "<class 'int'>\n"
     ]
    }
   ],
   "source": [
    "\"\"\"\n",
    "读取.pickle文件\n",
    "\"\"\"\n",
    "#path='Power_2023_80_category_split_train_phase_val.pickle'\n",
    "#path='Power_2023_80_category_split_train_phase_train.pickle'\n",
    "path='Power_2023_80_category_split_test.pickle'\n",
    "with open(path,'rb') as f:\n",
    "    data = pickle.load(f, encoding='bytes')\n",
    "    imgs = data['data']\n",
    "    labels = data['labels']\n",
    "print(len(imgs))\n",
    "print(imgs[0].shape)\n",
    "print(type(labels[0]))"
   ]
  },
  {
   "cell_type": "code",
   "execution_count": 32,
   "metadata": {
    "ExecuteTime": {
     "start_time": "2023-01-13T15:47:36.691Z"
    }
   },
   "outputs": [
    {
     "name": "stdout",
     "output_type": "stream",
     "text": [
      "[57, 57, 57, 57, 57, 57, 57, 57, 57, 57]\n"
     ]
    },
    {
     "data": {
      "image/png": "[encoded data removed]",
      "text/plain": [
       "<Figure size 576x576 with 1 Axes>"
      ]
     },
     "metadata": {
      "needs_background": "light"
     },
     "output_type": "display_data"
    },
    {
     "data": {
      "image/png": "[encoded data removed]",
      "text/plain": [
       "<Figure size 432x288 with 1 Axes>"
      ]
     },
     "metadata": {
      "needs_background": "light"
     },
     "output_type": "display_data"
    },
    {
     "data": {
      "image/png": "[encoded data removed]",
      "text/plain": [
       "<Figure size 432x288 with 1 Axes>"
      ]
     },
     "metadata": {
      "needs_background": "light"
     },
     "output_type": "display_data"
    },
    {
     "data": {
      "image/png": "[encoded data removed]",
      "text/plain": [
       "<Figure size 432x288 with 1 Axes>"
      ]
     },
     "metadata": {
      "needs_background": "light"
     },
     "output_type": "display_data"
    },
    {
     "data": {
      "image/png": "[encoded data removed]",
      "text/plain": [
       "<Figure size 432x288 with 1 Axes>"
      ]
     },
     "metadata": {
      "needs_background": "light"
     },
     "output_type": "display_data"
    },
    {
     "data": {
      "image/png": "[encoded data removed]",
      "text/plain": [
       "<Figure size 432x288 with 1 Axes>"
      ]
     },
     "metadata": {
      "needs_background": "light"
     },
     "output_type": "display_data"
    },
    {
     "data": {
      "image/png": "[encoded data removed]",
      "text/plain": [
       "<Figure size 432x288 with 1 Axes>"
      ]
     },
     "metadata": {
      "needs_background": "light"
     },
     "output_type": "display_data"
    },
    {
     "data": {
      "image/png": "[encoded data removed]",
      "text/plain": [
       "<Figure size 432x288 with 1 Axes>"
      ]
     },
     "metadata": {
      "needs_background": "light"
     },
     "output_type": "display_data"
    },
    {
     "data": {
      "image/png": "[encoded data removed]",
      "text/plain": [
       "<Figure size 432x288 with 1 Axes>"
      ]
     },
     "metadata": {
      "needs_background": "light"
     },
     "output_type": "display_data"
    },
    {
     "data": {
      "image/png": "[encoded data removed]",
      "text/plain": [
       "<Figure size 432x288 with 1 Axes>"
      ]
     },
     "metadata": {
      "needs_background": "light"
     },
     "output_type": "display_data"
    }
   ],
   "source": [
    "#测试生成的数据正确不\n",
    "def test(image_dataset,image_label):\n",
    "    print(image_label[:10])\n",
    "    plt.figure(figsize=(8,8))\n",
    "    for i in range(10):\n",
    "        plt.subplot(5,2,i+1)\n",
    "        plt.imshow(np.asarray(image_dataset[i]).astype('uint8'))\n",
    "        plt.show()\n",
    "    \n",
    "test(imgs,labels)"
   ]
  },
  {
   "cell_type": "code",
   "execution_count": 30,
   "metadata": {
    "ExecuteTime": {
     "end_time": "2023-01-13T15:46:54.968615Z",
     "start_time": "2023-01-13T15:46:52.941721Z"
    }
   },
   "outputs": [
    {
     "name": "stdout",
     "output_type": "stream",
     "text": [
      "84\n"
     ]
    }
   ],
   "source": [
    "item = 0\n",
    "img = np.asarray(imgs[item]).astype('uint8')\n",
    "print(len(img))\n",
    "img = Image.fromarray(img)\n",
    "\n",
    "img.show()"
   ]
  },
  {
   "cell_type": "code",
   "execution_count": 25,
   "metadata": {
    "ExecuteTime": {
     "end_time": "2023-01-13T15:47:24.368781Z",
     "start_time": "2023-01-13T15:47:24.344473Z"
    }
   },
   "outputs": [
    {
     "name": "stdout",
     "output_type": "stream",
     "text": [
      "[57 57 57 57 57 57 57 57 57 57 57 57 57 57 57 57 57 57 57 57 57 57 57 57\n",
      " 57 57 57 57 57 57 57 57 57 57 57 57 58 58 58 58 58 58 58 58 58 58 58 58\n",
      " 58 58 58 58 58 58 58 58 58 58 58 58 58 58 58 58 58 58 58 58 58 58 58 58\n",
      " 58 58 58 58 58 58 58 58 58 58 58 58 58 58 59 59 59 59 59 59 59 59 59 59\n",
      " 59 59 59 59 59 59 59 59 59 59 59 59 59 59 59 59 59 59 59 59 59 59 59 59\n",
      " 59 59 59 59 59 59 59 59 59 60 60 60 60 60 60 60 60 60 60 60 60 60 60 60\n",
      " 60 60 60 60 60 60 60 60 60 60 60 60 60 60 60 60 60 61 61 61 61 61 61 61\n",
      " 61 61 61 61 61 61 61 61 61 61 61 61 61 61 61 61 61 61 61 61 61 61 61 61\n",
      " 61 61 61 62 62 62 62 62 62 62 62 62 62 62 62 62 62 62 62 62 62 62 62 62\n",
      " 62 62 62 62 62 62 62 62 62 62 62 62 62 63 63 63 63 63 63 63 63 63 63 63\n",
      " 63 63 63 63 63 63 63 63 63 63 63 63 63 63 63 63 63 63 63 63 63 63 63 63\n",
      " 63 63 63 63 63 63 63 63 63 64 64 64 64 64 64 64 64 64 64 64 64 64 64 64\n",
      " 64 64 64 64 64 64 64 64 64 64 64 64 64 64 64 64 64 64 64 64 64 64 64 64\n",
      " 64 64 64 64 64 64 64 64 64 64 64 64 64 64 64 64 65 65 65 65 65 65 65 65\n",
      " 65 65 65 65 65 65 65 65 65 65 65 65 65 65 65 65 65 65 65 65 65 65 65 65\n",
      " 65 65 65 65 66 66 66 66 66 66 66 66 66 66 66 66 66 66 66 66 66 66 66 66\n",
      " 66 66 66 66 66 66 66 66 66 66 66 66 67 67 67 67 67 67 67 67 67 67 67 67\n",
      " 67 67 67 67 67 67 67 67 67 67 67 67 67 67 67 67 67 67 67 67 68 68 68 68\n",
      " 68 68 68 68 68 68 68 68 68 68 68 68 68 68 68 68 68 68 68 68 68 68 68 68\n",
      " 68 68 68 68 68 68 68 68 69 69 69 69 69 69 69 69 69 69 69 69 69 69 69 69\n",
      " 69 69 69 69 69 69 69 69 69 69 69 69 69 69 69 70 70 70 70 70 70 70 70 70\n",
      " 70 70 70 70 70 70 70 70 70 70 70 70 70 70 70 70 70 70 70 70 70 70 70 70\n",
      " 70 71 71 71 71 71 71 71 71 71 71 71 71 71 71 71 71 71 71 71 71 71 71 71\n",
      " 71 71 71 71 71 71 71 71 71 71 71 72 72 72 72 72 72 72 72 72 72 72 72 72\n",
      " 72 72 72 72 72 72 72 72 72 72 72 72 72 72 72 72 72 72 72 72 72 72 72 72\n",
      " 73 73 73 73 73 73 73 73 73 73 73 73 73 73 73 73 73 73 73 73 73 73 73 73\n",
      " 73 73 73 73 73 73 73 73 74 74 74 74 74 74 74 74 74 74 74 74 74 74 74 74\n",
      " 74 74 74 74 74 74 74 74 74 74 74 74 74 74 74 74 75 75 75 75 75 75 75 75\n",
      " 75 75 75 75 75 75 75 75 75 75 75 75 75 75 75 75 75 75 75 75 75 75 75 75\n",
      " 75 75 75 75 75 75 75 75 75 75 75 75 75 75 75 75 75 75 75 75 75 75 75 75\n",
      " 75 75 75 75 75 75 76 76 76 76 76 76 76 76 76 76 76 76 76 76 76 76 76 76\n",
      " 76 76 76 76 76 76 76 76 76 76 76 76 76 76 77 77 77 77 77 77 77 77 77 77\n",
      " 77 77 77 77 77 77 77 77 77 77 77 77 77 77 77 77 77 77 77 77 77 77 78 78\n",
      " 78 78 78 78 78 78 78 78 78 78 78 78 78 78 78 78 78 78 78 78 78 78 78 78\n",
      " 78 78 78 78 78 78 78 78 78 79 79 79 79 79 79 79 79 79 79 79 79 79 79 79\n",
      " 79 79 79 79 79 79 79 79 79 79 79 79 79 79 79 79 79 80 80 80 80 80 80 80\n",
      " 80 80 80 80 80 80 80 80 80 80 80 80 80 80 80 80 80 80 80 80 80 80 80 80\n",
      " 80 80 80]\n",
      "number of class= 24\n"
     ]
    }
   ],
   "source": [
    "slabels = np.asarray(labels)\n",
    "print(slabels)\n",
    "np.min(slabels)\n",
    "slabels = slabels - np.min(slabels)\n",
    "numclass = np.max(slabels)+1\n",
    "print('number of class=',numclass)"
   ]
  },
  {
   "cell_type": "code",
   "execution_count": null,
   "metadata": {},
   "outputs": [],
   "source": []
  }
 ],
 "metadata": {
  "interpreter": {
   "hash": "40fcfa6e6d0b900919044eaf0c3d93031bf266e33058809e21dbd8539b7f0758"
  },
  "kernelspec": {
   "display_name": "python-zbj",
   "language": "python",
   "name": "zbj"
  },
  "language_info": {
   "codemirror_mode": {
    "name": "ipython",
    "version": 3
   },
   "file_extension": ".py",
   "mimetype": "text/x-python",
   "name": "python",
   "nbconvert_exporter": "python",
   "pygments_lexer": "ipython3",
   "version": "3.8.10"
  }
 },
 "nbformat": 4,
 "nbformat_minor": 2
}
